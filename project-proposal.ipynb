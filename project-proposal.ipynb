{
 "cells": [
  {
   "cell_type": "markdown",
   "metadata": {},
   "source": [
    "<h1> Project Proposal </h1>"
   ]
  },
  {
   "cell_type": "markdown",
   "metadata": {},
   "source": [
    "<h2> Introduction </h2>"
   ]
  },
  {
   "cell_type": "markdown",
   "metadata": {},
   "source": [
    "add intro here"
   ]
  },
  {
   "cell_type": "markdown",
   "metadata": {},
   "source": [
    "<h2> Preliminary exploratory data analysis </h2>"
   ]
  },
  {
   "cell_type": "code",
   "execution_count": 1,
   "metadata": {},
   "outputs": [
    {
     "name": "stderr",
     "output_type": "stream",
     "text": [
      "── \u001b[1mAttaching packages\u001b[22m ─────────────────────────────────────── tidyverse 1.3.0 ──\n",
      "\n",
      "\u001b[32m✔\u001b[39m \u001b[34mggplot2\u001b[39m 3.3.2     \u001b[32m✔\u001b[39m \u001b[34mpurrr  \u001b[39m 0.3.4\n",
      "\u001b[32m✔\u001b[39m \u001b[34mtibble \u001b[39m 3.0.3     \u001b[32m✔\u001b[39m \u001b[34mdplyr  \u001b[39m 1.0.2\n",
      "\u001b[32m✔\u001b[39m \u001b[34mtidyr  \u001b[39m 1.1.2     \u001b[32m✔\u001b[39m \u001b[34mstringr\u001b[39m 1.4.0\n",
      "\u001b[32m✔\u001b[39m \u001b[34mreadr  \u001b[39m 1.3.1     \u001b[32m✔\u001b[39m \u001b[34mforcats\u001b[39m 0.5.0\n",
      "\n",
      "Warning message:\n",
      "“package ‘ggplot2’ was built under R version 4.0.1”\n",
      "Warning message:\n",
      "“package ‘tibble’ was built under R version 4.0.2”\n",
      "Warning message:\n",
      "“package ‘tidyr’ was built under R version 4.0.2”\n",
      "Warning message:\n",
      "“package ‘dplyr’ was built under R version 4.0.2”\n",
      "── \u001b[1mConflicts\u001b[22m ────────────────────────────────────────── tidyverse_conflicts() ──\n",
      "\u001b[31m✖\u001b[39m \u001b[34mdplyr\u001b[39m::\u001b[32mfilter()\u001b[39m masks \u001b[34mstats\u001b[39m::filter()\n",
      "\u001b[31m✖\u001b[39m \u001b[34mdplyr\u001b[39m::\u001b[32mlag()\u001b[39m    masks \u001b[34mstats\u001b[39m::lag()\n",
      "\n",
      "Warning message:\n",
      "“package ‘tidymodels’ was built under R version 4.0.2”\n",
      "── \u001b[1mAttaching packages\u001b[22m ────────────────────────────────────── tidymodels 0.1.1 ──\n",
      "\n",
      "\u001b[32m✔\u001b[39m \u001b[34mbroom    \u001b[39m 0.7.0      \u001b[32m✔\u001b[39m \u001b[34mrecipes  \u001b[39m 0.1.13\n",
      "\u001b[32m✔\u001b[39m \u001b[34mdials    \u001b[39m 0.0.9      \u001b[32m✔\u001b[39m \u001b[34mrsample  \u001b[39m 0.0.7 \n",
      "\u001b[32m✔\u001b[39m \u001b[34minfer    \u001b[39m 0.5.4      \u001b[32m✔\u001b[39m \u001b[34mtune     \u001b[39m 0.1.1 \n",
      "\u001b[32m✔\u001b[39m \u001b[34mmodeldata\u001b[39m 0.0.2      \u001b[32m✔\u001b[39m \u001b[34mworkflows\u001b[39m 0.2.0 \n",
      "\u001b[32m✔\u001b[39m \u001b[34mparsnip  \u001b[39m 0.1.3      \u001b[32m✔\u001b[39m \u001b[34myardstick\u001b[39m 0.0.7 \n",
      "\n",
      "Warning message:\n",
      "“package ‘broom’ was built under R version 4.0.2”\n",
      "Warning message:\n",
      "“package ‘dials’ was built under R version 4.0.2”\n",
      "Warning message:\n",
      "“package ‘infer’ was built under R version 4.0.3”\n",
      "Warning message:\n",
      "“package ‘modeldata’ was built under R version 4.0.1”\n",
      "Warning message:\n",
      "“package ‘parsnip’ was built under R version 4.0.2”\n",
      "Warning message:\n",
      "“package ‘recipes’ was built under R version 4.0.1”\n",
      "Warning message:\n",
      "“package ‘tune’ was built under R version 4.0.2”\n",
      "Warning message:\n",
      "“package ‘workflows’ was built under R version 4.0.2”\n",
      "Warning message:\n",
      "“package ‘yardstick’ was built under R version 4.0.2”\n",
      "── \u001b[1mConflicts\u001b[22m ───────────────────────────────────────── tidymodels_conflicts() ──\n",
      "\u001b[31m✖\u001b[39m \u001b[34mscales\u001b[39m::\u001b[32mdiscard()\u001b[39m masks \u001b[34mpurrr\u001b[39m::discard()\n",
      "\u001b[31m✖\u001b[39m \u001b[34mdplyr\u001b[39m::\u001b[32mfilter()\u001b[39m   masks \u001b[34mstats\u001b[39m::filter()\n",
      "\u001b[31m✖\u001b[39m \u001b[34mrecipes\u001b[39m::\u001b[32mfixed()\u001b[39m  masks \u001b[34mstringr\u001b[39m::fixed()\n",
      "\u001b[31m✖\u001b[39m \u001b[34mdplyr\u001b[39m::\u001b[32mlag()\u001b[39m      masks \u001b[34mstats\u001b[39m::lag()\n",
      "\u001b[31m✖\u001b[39m \u001b[34myardstick\u001b[39m::\u001b[32mspec()\u001b[39m masks \u001b[34mreadr\u001b[39m::spec()\n",
      "\u001b[31m✖\u001b[39m \u001b[34mrecipes\u001b[39m::\u001b[32mstep()\u001b[39m   masks \u001b[34mstats\u001b[39m::step()\n",
      "\n"
     ]
    }
   ],
   "source": [
    "# set up\n",
    "library(tidyverse)\n",
    "library(repr)\n",
    "library(tidymodels)\n",
    "options(repr.matrix.max.rows = 6)"
   ]
  },
  {
   "cell_type": "code",
   "execution_count": 2,
   "metadata": {},
   "outputs": [
    {
     "name": "stderr",
     "output_type": "stream",
     "text": [
      "Warning message:\n",
      "“Missing column names filled in: 'X1' [1]”\n",
      "Parsed with column specification:\n",
      "cols(\n",
      "  X1 = \u001b[32mcol_double()\u001b[39m,\n",
      "  Title = \u001b[31mcol_character()\u001b[39m,\n",
      "  `Movie Info` = \u001b[31mcol_character()\u001b[39m,\n",
      "  Distributor = \u001b[31mcol_character()\u001b[39m,\n",
      "  `Release Date` = \u001b[31mcol_character()\u001b[39m,\n",
      "  `Domestic Sales (in $)` = \u001b[32mcol_double()\u001b[39m,\n",
      "  `International Sales (in $)` = \u001b[32mcol_double()\u001b[39m,\n",
      "  `World Sales (in $)` = \u001b[32mcol_double()\u001b[39m,\n",
      "  Genre = \u001b[31mcol_character()\u001b[39m,\n",
      "  `Movie Runtime` = \u001b[31mcol_character()\u001b[39m,\n",
      "  License = \u001b[31mcol_character()\u001b[39m\n",
      ")\n",
      "\n"
     ]
    },
    {
     "data": {
      "text/html": [
       "<table>\n",
       "<caption>A spec_tbl_df: 918 × 11</caption>\n",
       "<thead>\n",
       "\t<tr><th scope=col>X1</th><th scope=col>Title</th><th scope=col>Movie.Info</th><th scope=col>Distributor</th><th scope=col>Release.Date</th><th scope=col>Domestic.Sales..in...</th><th scope=col>International.Sales..in...</th><th scope=col>World.Sales..in...</th><th scope=col>Genre</th><th scope=col>Movie.Runtime</th><th scope=col>License</th></tr>\n",
       "\t<tr><th scope=col>&lt;dbl&gt;</th><th scope=col>&lt;chr&gt;</th><th scope=col>&lt;chr&gt;</th><th scope=col>&lt;chr&gt;</th><th scope=col>&lt;chr&gt;</th><th scope=col>&lt;dbl&gt;</th><th scope=col>&lt;dbl&gt;</th><th scope=col>&lt;dbl&gt;</th><th scope=col>&lt;chr&gt;</th><th scope=col>&lt;chr&gt;</th><th scope=col>&lt;chr&gt;</th></tr>\n",
       "</thead>\n",
       "<tbody>\n",
       "\t<tr><td>0</td><td>Star Wars: Episode VII - The Force Awakens (2015)</td><td>As a new threat to the galaxy rises, Rey, a desert scavenger, and Finn, an ex-stormtrooper, must join Han Solo and Chewbacca to search for the one hope of restoring peace.                                                  </td><td>Walt Disney Studios Motion Pictures</td><td>December 16, 2015</td><td>936662225</td><td>1132859475</td><td>2069521700</td><td>['Action', 'Adventure', 'Sci-Fi']           </td><td>2 hr 18 min</td><td>PG-13</td></tr>\n",
       "\t<tr><td>1</td><td>Avengers: Endgame (2019)                         </td><td>After the devastating events of Avengers: Infinity War, the universe is in ruins. With the help of remaining allies, the Avengers assemble once more in order to reverse Thanos' actions and restore balance to the universe.</td><td>Walt Disney Studios Motion Pictures</td><td>April 24, 2019   </td><td>858373000</td><td>1939128328</td><td>2797501328</td><td>['Action', 'Adventure', 'Drama', 'Sci-Fi']  </td><td>3 hr 1 min </td><td>PG-13</td></tr>\n",
       "\t<tr><td>2</td><td>Avatar (2009)                                    </td><td>A paraplegic Marine dispatched to the moon Pandora on a unique mission becomes torn between following his orders and protecting the world he feels is his home.                                                              </td><td>Twentieth Century Fox              </td><td>December 16, 2009</td><td>760507625</td><td>2086738578</td><td>2847246203</td><td>['Action', 'Adventure', 'Fantasy', 'Sci-Fi']</td><td>2 hr 42 min</td><td>PG-13</td></tr>\n",
       "\t<tr><td>⋮</td><td>⋮</td><td>⋮</td><td>⋮</td><td>⋮</td><td>⋮</td><td>⋮</td><td>⋮</td><td>⋮</td><td>⋮</td><td>⋮</td></tr>\n",
       "\t<tr><td>915</td><td>Eat Pray Love (2010)              </td><td>A married woman realizes how unhappy her marriage really is, and that her life needs to go in a different direction. After a painful divorce, she takes off on a round-the-world journey to \"find herself\".</td><td>Sony Pictures Entertainment (SPE)</td><td>August 13, 2010 </td><td>80574010</td><td>124020006</td><td>204594016</td><td>['Biography', 'Drama', 'Romance']         </td><td>2 hr 13 min</td><td>PG-13</td></tr>\n",
       "\t<tr><td>916</td><td>The Texas Chainsaw Massacre (2003)</td><td>After picking up a traumatized young hitchhiker, five friends find themselves stalked and hunted by a deformed chainsaw-wielding loon and his family of equally psychopathic killers.                      </td><td>New Line Cinema                  </td><td>October 17, 2003</td><td>80571655</td><td> 26792250</td><td>107363905</td><td>['Crime', 'Horror']                       </td><td>1 hr 38 min</td><td>R    </td></tr>\n",
       "\t<tr><td>917</td><td>Zookeeper (2011)                  </td><td>A group of zoo animals decide to break their code of silence in order to help their lovable zookeeper find love, without opting to leave his current job for something more illustrious.                   </td><td>Sony Pictures Entertainment (SPE)</td><td>July 6, 2011    </td><td>80360843</td><td> 89491916</td><td>169852759</td><td>['Comedy', 'Family', 'Fantasy', 'Romance']</td><td>1 hr 42 min</td><td>PG   </td></tr>\n",
       "</tbody>\n",
       "</table>\n"
      ],
      "text/latex": [
       "A spec\\_tbl\\_df: 918 × 11\n",
       "\\begin{tabular}{lllllllllll}\n",
       " X1 & Title & Movie.Info & Distributor & Release.Date & Domestic.Sales..in... & International.Sales..in... & World.Sales..in... & Genre & Movie.Runtime & License\\\\\n",
       " <dbl> & <chr> & <chr> & <chr> & <chr> & <dbl> & <dbl> & <dbl> & <chr> & <chr> & <chr>\\\\\n",
       "\\hline\n",
       "\t 0 & Star Wars: Episode VII - The Force Awakens (2015) & As a new threat to the galaxy rises, Rey, a desert scavenger, and Finn, an ex-stormtrooper, must join Han Solo and Chewbacca to search for the one hope of restoring peace.                                                   & Walt Disney Studios Motion Pictures & December 16, 2015 & 936662225 & 1132859475 & 2069521700 & {[}'Action', 'Adventure', 'Sci-Fi'{]}            & 2 hr 18 min & PG-13\\\\\n",
       "\t 1 & Avengers: Endgame (2019)                          & After the devastating events of Avengers: Infinity War, the universe is in ruins. With the help of remaining allies, the Avengers assemble once more in order to reverse Thanos' actions and restore balance to the universe. & Walt Disney Studios Motion Pictures & April 24, 2019    & 858373000 & 1939128328 & 2797501328 & {[}'Action', 'Adventure', 'Drama', 'Sci-Fi'{]}   & 3 hr 1 min  & PG-13\\\\\n",
       "\t 2 & Avatar (2009)                                     & A paraplegic Marine dispatched to the moon Pandora on a unique mission becomes torn between following his orders and protecting the world he feels is his home.                                                               & Twentieth Century Fox               & December 16, 2009 & 760507625 & 2086738578 & 2847246203 & {[}'Action', 'Adventure', 'Fantasy', 'Sci-Fi'{]} & 2 hr 42 min & PG-13\\\\\n",
       "\t ⋮ & ⋮ & ⋮ & ⋮ & ⋮ & ⋮ & ⋮ & ⋮ & ⋮ & ⋮ & ⋮\\\\\n",
       "\t 915 & Eat Pray Love (2010)               & A married woman realizes how unhappy her marriage really is, and that her life needs to go in a different direction. After a painful divorce, she takes off on a round-the-world journey to \"find herself\". & Sony Pictures Entertainment (SPE) & August 13, 2010  & 80574010 & 124020006 & 204594016 & {[}'Biography', 'Drama', 'Romance'{]}          & 2 hr 13 min & PG-13\\\\\n",
       "\t 916 & The Texas Chainsaw Massacre (2003) & After picking up a traumatized young hitchhiker, five friends find themselves stalked and hunted by a deformed chainsaw-wielding loon and his family of equally psychopathic killers.                       & New Line Cinema                   & October 17, 2003 & 80571655 &  26792250 & 107363905 & {[}'Crime', 'Horror'{]}                        & 1 hr 38 min & R    \\\\\n",
       "\t 917 & Zookeeper (2011)                   & A group of zoo animals decide to break their code of silence in order to help their lovable zookeeper find love, without opting to leave his current job for something more illustrious.                    & Sony Pictures Entertainment (SPE) & July 6, 2011     & 80360843 &  89491916 & 169852759 & {[}'Comedy', 'Family', 'Fantasy', 'Romance'{]} & 1 hr 42 min & PG   \\\\\n",
       "\\end{tabular}\n"
      ],
      "text/markdown": [
       "\n",
       "A spec_tbl_df: 918 × 11\n",
       "\n",
       "| X1 &lt;dbl&gt; | Title &lt;chr&gt; | Movie.Info &lt;chr&gt; | Distributor &lt;chr&gt; | Release.Date &lt;chr&gt; | Domestic.Sales..in... &lt;dbl&gt; | International.Sales..in... &lt;dbl&gt; | World.Sales..in... &lt;dbl&gt; | Genre &lt;chr&gt; | Movie.Runtime &lt;chr&gt; | License &lt;chr&gt; |\n",
       "|---|---|---|---|---|---|---|---|---|---|---|\n",
       "| 0 | Star Wars: Episode VII - The Force Awakens (2015) | As a new threat to the galaxy rises, Rey, a desert scavenger, and Finn, an ex-stormtrooper, must join Han Solo and Chewbacca to search for the one hope of restoring peace.                                                   | Walt Disney Studios Motion Pictures | December 16, 2015 | 936662225 | 1132859475 | 2069521700 | ['Action', 'Adventure', 'Sci-Fi']            | 2 hr 18 min | PG-13 |\n",
       "| 1 | Avengers: Endgame (2019)                          | After the devastating events of Avengers: Infinity War, the universe is in ruins. With the help of remaining allies, the Avengers assemble once more in order to reverse Thanos' actions and restore balance to the universe. | Walt Disney Studios Motion Pictures | April 24, 2019    | 858373000 | 1939128328 | 2797501328 | ['Action', 'Adventure', 'Drama', 'Sci-Fi']   | 3 hr 1 min  | PG-13 |\n",
       "| 2 | Avatar (2009)                                     | A paraplegic Marine dispatched to the moon Pandora on a unique mission becomes torn between following his orders and protecting the world he feels is his home.                                                               | Twentieth Century Fox               | December 16, 2009 | 760507625 | 2086738578 | 2847246203 | ['Action', 'Adventure', 'Fantasy', 'Sci-Fi'] | 2 hr 42 min | PG-13 |\n",
       "| ⋮ | ⋮ | ⋮ | ⋮ | ⋮ | ⋮ | ⋮ | ⋮ | ⋮ | ⋮ | ⋮ |\n",
       "| 915 | Eat Pray Love (2010)               | A married woman realizes how unhappy her marriage really is, and that her life needs to go in a different direction. After a painful divorce, she takes off on a round-the-world journey to \"find herself\". | Sony Pictures Entertainment (SPE) | August 13, 2010  | 80574010 | 124020006 | 204594016 | ['Biography', 'Drama', 'Romance']          | 2 hr 13 min | PG-13 |\n",
       "| 916 | The Texas Chainsaw Massacre (2003) | After picking up a traumatized young hitchhiker, five friends find themselves stalked and hunted by a deformed chainsaw-wielding loon and his family of equally psychopathic killers.                       | New Line Cinema                   | October 17, 2003 | 80571655 |  26792250 | 107363905 | ['Crime', 'Horror']                        | 1 hr 38 min | R     |\n",
       "| 917 | Zookeeper (2011)                   | A group of zoo animals decide to break their code of silence in order to help their lovable zookeeper find love, without opting to leave his current job for something more illustrious.                    | Sony Pictures Entertainment (SPE) | July 6, 2011     | 80360843 |  89491916 | 169852759 | ['Comedy', 'Family', 'Fantasy', 'Romance'] | 1 hr 42 min | PG    |\n",
       "\n"
      ],
      "text/plain": [
       "    X1  Title                                            \n",
       "1   0   Star Wars: Episode VII - The Force Awakens (2015)\n",
       "2   1   Avengers: Endgame (2019)                         \n",
       "3   2   Avatar (2009)                                    \n",
       "⋮   ⋮   ⋮                                                \n",
       "916 915 Eat Pray Love (2010)                             \n",
       "917 916 The Texas Chainsaw Massacre (2003)               \n",
       "918 917 Zookeeper (2011)                                 \n",
       "    Movie.Info                                                                                                                                                                                                                   \n",
       "1   As a new threat to the galaxy rises, Rey, a desert scavenger, and Finn, an ex-stormtrooper, must join Han Solo and Chewbacca to search for the one hope of restoring peace.                                                  \n",
       "2   After the devastating events of Avengers: Infinity War, the universe is in ruins. With the help of remaining allies, the Avengers assemble once more in order to reverse Thanos' actions and restore balance to the universe.\n",
       "3   A paraplegic Marine dispatched to the moon Pandora on a unique mission becomes torn between following his orders and protecting the world he feels is his home.                                                              \n",
       "⋮   ⋮                                                                                                                                                                                                                            \n",
       "916 A married woman realizes how unhappy her marriage really is, and that her life needs to go in a different direction. After a painful divorce, she takes off on a round-the-world journey to \"find herself\".                  \n",
       "917 After picking up a traumatized young hitchhiker, five friends find themselves stalked and hunted by a deformed chainsaw-wielding loon and his family of equally psychopathic killers.                                        \n",
       "918 A group of zoo animals decide to break their code of silence in order to help their lovable zookeeper find love, without opting to leave his current job for something more illustrious.                                     \n",
       "    Distributor                         Release.Date      Domestic.Sales..in...\n",
       "1   Walt Disney Studios Motion Pictures December 16, 2015 936662225            \n",
       "2   Walt Disney Studios Motion Pictures April 24, 2019    858373000            \n",
       "3   Twentieth Century Fox               December 16, 2009 760507625            \n",
       "⋮   ⋮                                   ⋮                 ⋮                    \n",
       "916 Sony Pictures Entertainment (SPE)   August 13, 2010   80574010             \n",
       "917 New Line Cinema                     October 17, 2003  80571655             \n",
       "918 Sony Pictures Entertainment (SPE)   July 6, 2011      80360843             \n",
       "    International.Sales..in... World.Sales..in...\n",
       "1   1132859475                 2069521700        \n",
       "2   1939128328                 2797501328        \n",
       "3   2086738578                 2847246203        \n",
       "⋮   ⋮                          ⋮                 \n",
       "916 124020006                  204594016         \n",
       "917  26792250                  107363905         \n",
       "918  89491916                  169852759         \n",
       "    Genre                                        Movie.Runtime License\n",
       "1   ['Action', 'Adventure', 'Sci-Fi']            2 hr 18 min   PG-13  \n",
       "2   ['Action', 'Adventure', 'Drama', 'Sci-Fi']   3 hr 1 min    PG-13  \n",
       "3   ['Action', 'Adventure', 'Fantasy', 'Sci-Fi'] 2 hr 42 min   PG-13  \n",
       "⋮   ⋮                                            ⋮             ⋮      \n",
       "916 ['Biography', 'Drama', 'Romance']            2 hr 13 min   PG-13  \n",
       "917 ['Crime', 'Horror']                          1 hr 38 min   R      \n",
       "918 ['Comedy', 'Family', 'Fantasy', 'Romance']   1 hr 42 min   PG     "
      ]
     },
     "metadata": {},
     "output_type": "display_data"
    }
   ],
   "source": [
    "# reading in data\n",
    "url <- \"https://raw.githubusercontent.com/karlie-tr/dataset/main/Highest%20Holywood%20Grossing%20Movies.csv\"\n",
    "download.file(url, destfile = \"highest-hollywood-grossing-movies.csv\")\n",
    "movies_data <- read_csv(\"highest-hollywood-grossing-movies.csv\")\n",
    "\n",
    "# remove white space in headers\n",
    "colnames(movies_data) <- make.names(colnames(movies_data))\n",
    "movies_data"
   ]
  },
  {
   "cell_type": "code",
   "execution_count": 3,
   "metadata": {},
   "outputs": [
    {
     "name": "stderr",
     "output_type": "stream",
     "text": [
      "Warning message:\n",
      "“Expected 2 pieces. Additional pieces discarded in 918 rows [1, 2, 3, 4, 5, 6, 7, 8, 9, 10, 11, 12, 13, 14, 15, 16, 17, 18, 19, 20, ...].”\n"
     ]
    },
    {
     "data": {
      "text/html": [
       "<table>\n",
       "<caption>A data.frame: 360 × 6</caption>\n",
       "<thead>\n",
       "\t<tr><th scope=col>Title</th><th scope=col>Distributor</th><th scope=col>Release_Year</th><th scope=col>World_Sales</th><th scope=col>Genre</th><th scope=col>Runtime</th></tr>\n",
       "\t<tr><th scope=col>&lt;chr&gt;</th><th scope=col>&lt;chr&gt;</th><th scope=col>&lt;chr&gt;</th><th scope=col>&lt;chr&gt;</th><th scope=col>&lt;chr&gt;</th><th scope=col>&lt;chr&gt;</th></tr>\n",
       "</thead>\n",
       "<tbody>\n",
       "\t<tr><td>StarWars:EpisodeVII-TheForceAwakens</td><td>WaltDisneyStudiosMotionPictures</td><td>2015</td><td>2069521700</td><td>['Action','Adventure','Sci-Fi']        </td><td>2hr18min</td></tr>\n",
       "\t<tr><td>Avengers:Endgame                   </td><td>WaltDisneyStudiosMotionPictures</td><td>2019</td><td>2797501328</td><td>['Action','Adventure','Drama','Sci-Fi']</td><td>3hr1min </td></tr>\n",
       "\t<tr><td>JurassicWorld                      </td><td>UniversalPictures              </td><td>2015</td><td>1670516444</td><td>['Action','Adventure','Sci-Fi']        </td><td>2hr4min </td></tr>\n",
       "\t<tr><td>⋮</td><td>⋮</td><td>⋮</td><td>⋮</td><td>⋮</td><td>⋮</td></tr>\n",
       "\t<tr><td>Ted2       </td><td>UniversalPictures             </td><td>2015</td><td>215863606</td><td>['Comedy']                             </td><td>1hr55min</td></tr>\n",
       "\t<tr><td>EatPrayLove</td><td>SonyPicturesEntertainment(SPE)</td><td>2010</td><td>204594016</td><td>['Biography','Drama','Romance']        </td><td>2hr13min</td></tr>\n",
       "\t<tr><td>Zookeeper  </td><td>SonyPicturesEntertainment(SPE)</td><td>2011</td><td>169852759</td><td>['Comedy','Family','Fantasy','Romance']</td><td>1hr42min</td></tr>\n",
       "</tbody>\n",
       "</table>\n"
      ],
      "text/latex": [
       "A data.frame: 360 × 6\n",
       "\\begin{tabular}{llllll}\n",
       " Title & Distributor & Release\\_Year & World\\_Sales & Genre & Runtime\\\\\n",
       " <chr> & <chr> & <chr> & <chr> & <chr> & <chr>\\\\\n",
       "\\hline\n",
       "\t StarWars:EpisodeVII-TheForceAwakens & WaltDisneyStudiosMotionPictures & 2015 & 2069521700 & {[}'Action','Adventure','Sci-Fi'{]}         & 2hr18min\\\\\n",
       "\t Avengers:Endgame                    & WaltDisneyStudiosMotionPictures & 2019 & 2797501328 & {[}'Action','Adventure','Drama','Sci-Fi'{]} & 3hr1min \\\\\n",
       "\t JurassicWorld                       & UniversalPictures               & 2015 & 1670516444 & {[}'Action','Adventure','Sci-Fi'{]}         & 2hr4min \\\\\n",
       "\t ⋮ & ⋮ & ⋮ & ⋮ & ⋮ & ⋮\\\\\n",
       "\t Ted2        & UniversalPictures              & 2015 & 215863606 & {[}'Comedy'{]}                              & 1hr55min\\\\\n",
       "\t EatPrayLove & SonyPicturesEntertainment(SPE) & 2010 & 204594016 & {[}'Biography','Drama','Romance'{]}         & 2hr13min\\\\\n",
       "\t Zookeeper   & SonyPicturesEntertainment(SPE) & 2011 & 169852759 & {[}'Comedy','Family','Fantasy','Romance'{]} & 1hr42min\\\\\n",
       "\\end{tabular}\n"
      ],
      "text/markdown": [
       "\n",
       "A data.frame: 360 × 6\n",
       "\n",
       "| Title &lt;chr&gt; | Distributor &lt;chr&gt; | Release_Year &lt;chr&gt; | World_Sales &lt;chr&gt; | Genre &lt;chr&gt; | Runtime &lt;chr&gt; |\n",
       "|---|---|---|---|---|---|\n",
       "| StarWars:EpisodeVII-TheForceAwakens | WaltDisneyStudiosMotionPictures | 2015 | 2069521700 | ['Action','Adventure','Sci-Fi']         | 2hr18min |\n",
       "| Avengers:Endgame                    | WaltDisneyStudiosMotionPictures | 2019 | 2797501328 | ['Action','Adventure','Drama','Sci-Fi'] | 3hr1min  |\n",
       "| JurassicWorld                       | UniversalPictures               | 2015 | 1670516444 | ['Action','Adventure','Sci-Fi']         | 2hr4min  |\n",
       "| ⋮ | ⋮ | ⋮ | ⋮ | ⋮ | ⋮ |\n",
       "| Ted2        | UniversalPictures              | 2015 | 215863606 | ['Comedy']                              | 1hr55min |\n",
       "| EatPrayLove | SonyPicturesEntertainment(SPE) | 2010 | 204594016 | ['Biography','Drama','Romance']         | 2hr13min |\n",
       "| Zookeeper   | SonyPicturesEntertainment(SPE) | 2011 | 169852759 | ['Comedy','Family','Fantasy','Romance'] | 1hr42min |\n",
       "\n"
      ],
      "text/plain": [
       "    Title                               Distributor                    \n",
       "1   StarWars:EpisodeVII-TheForceAwakens WaltDisneyStudiosMotionPictures\n",
       "2   Avengers:Endgame                    WaltDisneyStudiosMotionPictures\n",
       "3   JurassicWorld                       UniversalPictures              \n",
       "⋮   ⋮                                   ⋮                              \n",
       "358 Ted2                                UniversalPictures              \n",
       "359 EatPrayLove                         SonyPicturesEntertainment(SPE) \n",
       "360 Zookeeper                           SonyPicturesEntertainment(SPE) \n",
       "    Release_Year World_Sales Genre                                   Runtime \n",
       "1   2015         2069521700  ['Action','Adventure','Sci-Fi']         2hr18min\n",
       "2   2019         2797501328  ['Action','Adventure','Drama','Sci-Fi'] 3hr1min \n",
       "3   2015         1670516444  ['Action','Adventure','Sci-Fi']         2hr4min \n",
       "⋮   ⋮            ⋮           ⋮                                       ⋮       \n",
       "358 2015         215863606   ['Comedy']                              1hr55min\n",
       "359 2010         204594016   ['Biography','Drama','Romance']         2hr13min\n",
       "360 2011         169852759   ['Comedy','Family','Fantasy','Romance'] 1hr42min"
      ]
     },
     "metadata": {},
     "output_type": "display_data"
    }
   ],
   "source": [
    "# remove unusable columns\n",
    "vars <- c(\"Title\",\"Distributor\",\"Release.Date\",\"World.Sales..in...\",\"Genre\",\"Movie.Runtime\") # vars that we want to keep\n",
    "movies_data_filtered <- movies_data %>%\n",
    "                        select(all_of(vars))\n",
    "\n",
    "# change column name\n",
    "colnames(movies_data_filtered) <- c(\"Title\", \"Distributor\",\"Release_Date\",\"World_Sales\",\"Genre\",\"Runtime\")\n",
    "\n",
    "# remove all white space in dataframe\n",
    "movies_data_no_space <- as.data.frame(apply(movies_data_filtered, 2, str_remove_all, \" \"))\n",
    "\n",
    "# separate release year from Release_Date\n",
    "movies_release_date <- separate(movies_data_no_space,\n",
    "                            col = Release_Date,\n",
    "                            into = c(\"date\", \"Release_Year\"),\n",
    "                            sep = \",\"\n",
    "                           )\n",
    "\n",
    "# separate release year from movie title\n",
    "movies_release_date <- separate(movies_release_date,\n",
    "                            col = Title,\n",
    "                            into = c(\"Title\", \"year\"),\n",
    "                            sep = \"[()]\"\n",
    "                           )\n",
    "\n",
    "# filter for movies released since 2010, remove NAs\n",
    "movies_2010 <- movies_release_date %>%\n",
    "                    select(-date, -year) %>%\n",
    "                    filter(Release_Year >= 2010)\n",
    "      \n",
    "\n",
    "movies_2010                 "
   ]
  },
  {
   "cell_type": "code",
   "execution_count": null,
   "metadata": {},
   "outputs": [],
   "source": []
  },
  {
   "cell_type": "code",
   "execution_count": 7,
   "metadata": {},
   "outputs": [
    {
     "data": {
      "text/html": [
       "<ol>\n",
       "\t<li>'Action'</li>\n",
       "\t<li>'Adventure'</li>\n",
       "\t<li>'Sci-Fi'</li>\n",
       "\t<li>'Drama'</li>\n",
       "\t<li>'Fantasy'</li>\n",
       "\t<li>'Romance'</li>\n",
       "\t<li>'Animation'</li>\n",
       "\t<li>'Comedy'</li>\n",
       "\t<li>'Family'</li>\n",
       "\t<li>'Musical'</li>\n",
       "\t<li>'Crime'</li>\n",
       "\t<li>'Thriller'</li>\n",
       "\t<li>'War'</li>\n",
       "\t<li>'Mystery'</li>\n",
       "\t<li>'Biography'</li>\n",
       "\t<li>'Horror'</li>\n",
       "\t<li>'Sport'</li>\n",
       "\t<li>'Music'</li>\n",
       "\t<li>'History'</li>\n",
       "\t<li>'Western'</li>\n",
       "\t<li>'Documentary'</li>\n",
       "</ol>\n"
      ],
      "text/latex": [
       "\\begin{enumerate}\n",
       "\\item 'Action'\n",
       "\\item 'Adventure'\n",
       "\\item 'Sci-Fi'\n",
       "\\item 'Drama'\n",
       "\\item 'Fantasy'\n",
       "\\item 'Romance'\n",
       "\\item 'Animation'\n",
       "\\item 'Comedy'\n",
       "\\item 'Family'\n",
       "\\item 'Musical'\n",
       "\\item 'Crime'\n",
       "\\item 'Thriller'\n",
       "\\item 'War'\n",
       "\\item 'Mystery'\n",
       "\\item 'Biography'\n",
       "\\item 'Horror'\n",
       "\\item 'Sport'\n",
       "\\item 'Music'\n",
       "\\item 'History'\n",
       "\\item 'Western'\n",
       "\\item 'Documentary'\n",
       "\\end{enumerate}\n"
      ],
      "text/markdown": [
       "1. 'Action'\n",
       "2. 'Adventure'\n",
       "3. 'Sci-Fi'\n",
       "4. 'Drama'\n",
       "5. 'Fantasy'\n",
       "6. 'Romance'\n",
       "7. 'Animation'\n",
       "8. 'Comedy'\n",
       "9. 'Family'\n",
       "10. 'Musical'\n",
       "11. 'Crime'\n",
       "12. 'Thriller'\n",
       "13. 'War'\n",
       "14. 'Mystery'\n",
       "15. 'Biography'\n",
       "16. 'Horror'\n",
       "17. 'Sport'\n",
       "18. 'Music'\n",
       "19. 'History'\n",
       "20. 'Western'\n",
       "21. 'Documentary'\n",
       "\n",
       "\n"
      ],
      "text/plain": [
       "[[1]]\n",
       "[1] \"Action\"\n",
       "\n",
       "[[2]]\n",
       "[1] \"Adventure\"\n",
       "\n",
       "[[3]]\n",
       "[1] \"Sci-Fi\"\n",
       "\n",
       "[[4]]\n",
       "[1] \"Drama\"\n",
       "\n",
       "[[5]]\n",
       "[1] \"Fantasy\"\n",
       "\n",
       "[[6]]\n",
       "[1] \"Romance\"\n",
       "\n",
       "[[7]]\n",
       "[1] \"Animation\"\n",
       "\n",
       "[[8]]\n",
       "[1] \"Comedy\"\n",
       "\n",
       "[[9]]\n",
       "[1] \"Family\"\n",
       "\n",
       "[[10]]\n",
       "[1] \"Musical\"\n",
       "\n",
       "[[11]]\n",
       "[1] \"Crime\"\n",
       "\n",
       "[[12]]\n",
       "[1] \"Thriller\"\n",
       "\n",
       "[[13]]\n",
       "[1] \"War\"\n",
       "\n",
       "[[14]]\n",
       "[1] \"Mystery\"\n",
       "\n",
       "[[15]]\n",
       "[1] \"Biography\"\n",
       "\n",
       "[[16]]\n",
       "[1] \"Horror\"\n",
       "\n",
       "[[17]]\n",
       "[1] \"Sport\"\n",
       "\n",
       "[[18]]\n",
       "[1] \"Music\"\n",
       "\n",
       "[[19]]\n",
       "[1] \"History\"\n",
       "\n",
       "[[20]]\n",
       "[1] \"Western\"\n",
       "\n",
       "[[21]]\n",
       "[1] \"Documentary\"\n"
      ]
     },
     "metadata": {},
     "output_type": "display_data"
    }
   ],
   "source": [
    "# tidying genre column\n",
    "\n",
    "genre_list <- movies_data %>%\n",
    "    select(Genre) %>%\n",
    "    # remove brackets, quotation marks, and spaces from string\n",
    "    mutate(Genre = str_replace_all(string = Genre, pattern = regex(\"[]\\\\[\\' ]\"), replacement = \"\")) %>% \n",
    "    # change string into list\n",
    "    mutate(Genre = as.list(strsplit(Genre, \",\"))) %>%\n",
    "    # make a list of all unique values\n",
    "    pull() %>%\n",
    "    flatten() %>%\n",
    "    unique()\n",
    "\n",
    "genre_list"
   ]
  },
  {
   "cell_type": "code",
   "execution_count": 10,
   "metadata": {},
   "outputs": [
    {
     "data": {
      "text/html": [
       "<table>\n",
       "<caption>A data.frame: 360 × 27</caption>\n",
       "<thead>\n",
       "\t<tr><th scope=col>Title</th><th scope=col>Distributor</th><th scope=col>Release_Year</th><th scope=col>World_Sales</th><th scope=col>Genre</th><th scope=col>Runtime</th><th scope=col>Action</th><th scope=col>Adventure</th><th scope=col>Sci-Fi</th><th scope=col>Drama</th><th scope=col>⋯</th><th scope=col>Thriller</th><th scope=col>War</th><th scope=col>Mystery</th><th scope=col>Biography</th><th scope=col>Horror</th><th scope=col>Sport</th><th scope=col>Music</th><th scope=col>History</th><th scope=col>Western</th><th scope=col>Documentary</th></tr>\n",
       "\t<tr><th scope=col>&lt;chr&gt;</th><th scope=col>&lt;chr&gt;</th><th scope=col>&lt;chr&gt;</th><th scope=col>&lt;chr&gt;</th><th scope=col>&lt;chr&gt;</th><th scope=col>&lt;chr&gt;</th><th scope=col>&lt;lgl&gt;</th><th scope=col>&lt;lgl&gt;</th><th scope=col>&lt;lgl&gt;</th><th scope=col>&lt;lgl&gt;</th><th scope=col>⋯</th><th scope=col>&lt;lgl&gt;</th><th scope=col>&lt;lgl&gt;</th><th scope=col>&lt;lgl&gt;</th><th scope=col>&lt;lgl&gt;</th><th scope=col>&lt;lgl&gt;</th><th scope=col>&lt;lgl&gt;</th><th scope=col>&lt;lgl&gt;</th><th scope=col>&lt;lgl&gt;</th><th scope=col>&lt;lgl&gt;</th><th scope=col>&lt;lgl&gt;</th></tr>\n",
       "</thead>\n",
       "<tbody>\n",
       "\t<tr><td>StarWars:EpisodeVII-TheForceAwakens</td><td>WaltDisneyStudiosMotionPictures</td><td>2015</td><td>2069521700</td><td>['Action','Adventure','Sci-Fi']        </td><td>2hr18min</td><td>TRUE</td><td>TRUE</td><td>TRUE</td><td>FALSE</td><td>⋯</td><td>FALSE</td><td>FALSE</td><td>FALSE</td><td>FALSE</td><td>FALSE</td><td>FALSE</td><td>FALSE</td><td>FALSE</td><td>FALSE</td><td>FALSE</td></tr>\n",
       "\t<tr><td>Avengers:Endgame                   </td><td>WaltDisneyStudiosMotionPictures</td><td>2019</td><td>2797501328</td><td>['Action','Adventure','Drama','Sci-Fi']</td><td>3hr1min </td><td>TRUE</td><td>TRUE</td><td>TRUE</td><td> TRUE</td><td>⋯</td><td>FALSE</td><td>FALSE</td><td>FALSE</td><td>FALSE</td><td>FALSE</td><td>FALSE</td><td>FALSE</td><td>FALSE</td><td>FALSE</td><td>FALSE</td></tr>\n",
       "\t<tr><td>JurassicWorld                      </td><td>UniversalPictures              </td><td>2015</td><td>1670516444</td><td>['Action','Adventure','Sci-Fi']        </td><td>2hr4min </td><td>TRUE</td><td>TRUE</td><td>TRUE</td><td>FALSE</td><td>⋯</td><td>FALSE</td><td>FALSE</td><td>FALSE</td><td>FALSE</td><td>FALSE</td><td>FALSE</td><td>FALSE</td><td>FALSE</td><td>FALSE</td><td>FALSE</td></tr>\n",
       "\t<tr><td>⋮</td><td>⋮</td><td>⋮</td><td>⋮</td><td>⋮</td><td>⋮</td><td>⋮</td><td>⋮</td><td>⋮</td><td>⋮</td><td>⋱</td><td>⋮</td><td>⋮</td><td>⋮</td><td>⋮</td><td>⋮</td><td>⋮</td><td>⋮</td><td>⋮</td><td>⋮</td><td>⋮</td></tr>\n",
       "\t<tr><td>Ted2       </td><td>UniversalPictures             </td><td>2015</td><td>215863606</td><td>['Comedy']                             </td><td>1hr55min</td><td>FALSE</td><td>FALSE</td><td>FALSE</td><td>FALSE</td><td>⋯</td><td>FALSE</td><td>FALSE</td><td>FALSE</td><td>FALSE</td><td>FALSE</td><td>FALSE</td><td>FALSE</td><td>FALSE</td><td>FALSE</td><td>FALSE</td></tr>\n",
       "\t<tr><td>EatPrayLove</td><td>SonyPicturesEntertainment(SPE)</td><td>2010</td><td>204594016</td><td>['Biography','Drama','Romance']        </td><td>2hr13min</td><td>FALSE</td><td>FALSE</td><td>FALSE</td><td> TRUE</td><td>⋯</td><td>FALSE</td><td>FALSE</td><td>FALSE</td><td> TRUE</td><td>FALSE</td><td>FALSE</td><td>FALSE</td><td>FALSE</td><td>FALSE</td><td>FALSE</td></tr>\n",
       "\t<tr><td>Zookeeper  </td><td>SonyPicturesEntertainment(SPE)</td><td>2011</td><td>169852759</td><td>['Comedy','Family','Fantasy','Romance']</td><td>1hr42min</td><td>FALSE</td><td>FALSE</td><td>FALSE</td><td>FALSE</td><td>⋯</td><td>FALSE</td><td>FALSE</td><td>FALSE</td><td>FALSE</td><td>FALSE</td><td>FALSE</td><td>FALSE</td><td>FALSE</td><td>FALSE</td><td>FALSE</td></tr>\n",
       "</tbody>\n",
       "</table>\n"
      ],
      "text/latex": [
       "A data.frame: 360 × 27\n",
       "\\begin{tabular}{lllllllllllllllllllll}\n",
       " Title & Distributor & Release\\_Year & World\\_Sales & Genre & Runtime & Action & Adventure & Sci-Fi & Drama & ⋯ & Thriller & War & Mystery & Biography & Horror & Sport & Music & History & Western & Documentary\\\\\n",
       " <chr> & <chr> & <chr> & <chr> & <chr> & <chr> & <lgl> & <lgl> & <lgl> & <lgl> & ⋯ & <lgl> & <lgl> & <lgl> & <lgl> & <lgl> & <lgl> & <lgl> & <lgl> & <lgl> & <lgl>\\\\\n",
       "\\hline\n",
       "\t StarWars:EpisodeVII-TheForceAwakens & WaltDisneyStudiosMotionPictures & 2015 & 2069521700 & {[}'Action','Adventure','Sci-Fi'{]}         & 2hr18min & TRUE & TRUE & TRUE & FALSE & ⋯ & FALSE & FALSE & FALSE & FALSE & FALSE & FALSE & FALSE & FALSE & FALSE & FALSE\\\\\n",
       "\t Avengers:Endgame                    & WaltDisneyStudiosMotionPictures & 2019 & 2797501328 & {[}'Action','Adventure','Drama','Sci-Fi'{]} & 3hr1min  & TRUE & TRUE & TRUE &  TRUE & ⋯ & FALSE & FALSE & FALSE & FALSE & FALSE & FALSE & FALSE & FALSE & FALSE & FALSE\\\\\n",
       "\t JurassicWorld                       & UniversalPictures               & 2015 & 1670516444 & {[}'Action','Adventure','Sci-Fi'{]}         & 2hr4min  & TRUE & TRUE & TRUE & FALSE & ⋯ & FALSE & FALSE & FALSE & FALSE & FALSE & FALSE & FALSE & FALSE & FALSE & FALSE\\\\\n",
       "\t ⋮ & ⋮ & ⋮ & ⋮ & ⋮ & ⋮ & ⋮ & ⋮ & ⋮ & ⋮ & ⋱ & ⋮ & ⋮ & ⋮ & ⋮ & ⋮ & ⋮ & ⋮ & ⋮ & ⋮ & ⋮\\\\\n",
       "\t Ted2        & UniversalPictures              & 2015 & 215863606 & {[}'Comedy'{]}                              & 1hr55min & FALSE & FALSE & FALSE & FALSE & ⋯ & FALSE & FALSE & FALSE & FALSE & FALSE & FALSE & FALSE & FALSE & FALSE & FALSE\\\\\n",
       "\t EatPrayLove & SonyPicturesEntertainment(SPE) & 2010 & 204594016 & {[}'Biography','Drama','Romance'{]}         & 2hr13min & FALSE & FALSE & FALSE &  TRUE & ⋯ & FALSE & FALSE & FALSE &  TRUE & FALSE & FALSE & FALSE & FALSE & FALSE & FALSE\\\\\n",
       "\t Zookeeper   & SonyPicturesEntertainment(SPE) & 2011 & 169852759 & {[}'Comedy','Family','Fantasy','Romance'{]} & 1hr42min & FALSE & FALSE & FALSE & FALSE & ⋯ & FALSE & FALSE & FALSE & FALSE & FALSE & FALSE & FALSE & FALSE & FALSE & FALSE\\\\\n",
       "\\end{tabular}\n"
      ],
      "text/markdown": [
       "\n",
       "A data.frame: 360 × 27\n",
       "\n",
       "| Title &lt;chr&gt; | Distributor &lt;chr&gt; | Release_Year &lt;chr&gt; | World_Sales &lt;chr&gt; | Genre &lt;chr&gt; | Runtime &lt;chr&gt; | Action &lt;lgl&gt; | Adventure &lt;lgl&gt; | Sci-Fi &lt;lgl&gt; | Drama &lt;lgl&gt; | ⋯ ⋯ | Thriller &lt;lgl&gt; | War &lt;lgl&gt; | Mystery &lt;lgl&gt; | Biography &lt;lgl&gt; | Horror &lt;lgl&gt; | Sport &lt;lgl&gt; | Music &lt;lgl&gt; | History &lt;lgl&gt; | Western &lt;lgl&gt; | Documentary &lt;lgl&gt; |\n",
       "|---|---|---|---|---|---|---|---|---|---|---|---|---|---|---|---|---|---|---|---|---|\n",
       "| StarWars:EpisodeVII-TheForceAwakens | WaltDisneyStudiosMotionPictures | 2015 | 2069521700 | ['Action','Adventure','Sci-Fi']         | 2hr18min | TRUE | TRUE | TRUE | FALSE | ⋯ | FALSE | FALSE | FALSE | FALSE | FALSE | FALSE | FALSE | FALSE | FALSE | FALSE |\n",
       "| Avengers:Endgame                    | WaltDisneyStudiosMotionPictures | 2019 | 2797501328 | ['Action','Adventure','Drama','Sci-Fi'] | 3hr1min  | TRUE | TRUE | TRUE |  TRUE | ⋯ | FALSE | FALSE | FALSE | FALSE | FALSE | FALSE | FALSE | FALSE | FALSE | FALSE |\n",
       "| JurassicWorld                       | UniversalPictures               | 2015 | 1670516444 | ['Action','Adventure','Sci-Fi']         | 2hr4min  | TRUE | TRUE | TRUE | FALSE | ⋯ | FALSE | FALSE | FALSE | FALSE | FALSE | FALSE | FALSE | FALSE | FALSE | FALSE |\n",
       "| ⋮ | ⋮ | ⋮ | ⋮ | ⋮ | ⋮ | ⋮ | ⋮ | ⋮ | ⋮ | ⋱ | ⋮ | ⋮ | ⋮ | ⋮ | ⋮ | ⋮ | ⋮ | ⋮ | ⋮ | ⋮ |\n",
       "| Ted2        | UniversalPictures              | 2015 | 215863606 | ['Comedy']                              | 1hr55min | FALSE | FALSE | FALSE | FALSE | ⋯ | FALSE | FALSE | FALSE | FALSE | FALSE | FALSE | FALSE | FALSE | FALSE | FALSE |\n",
       "| EatPrayLove | SonyPicturesEntertainment(SPE) | 2010 | 204594016 | ['Biography','Drama','Romance']         | 2hr13min | FALSE | FALSE | FALSE |  TRUE | ⋯ | FALSE | FALSE | FALSE |  TRUE | FALSE | FALSE | FALSE | FALSE | FALSE | FALSE |\n",
       "| Zookeeper   | SonyPicturesEntertainment(SPE) | 2011 | 169852759 | ['Comedy','Family','Fantasy','Romance'] | 1hr42min | FALSE | FALSE | FALSE | FALSE | ⋯ | FALSE | FALSE | FALSE | FALSE | FALSE | FALSE | FALSE | FALSE | FALSE | FALSE |\n",
       "\n"
      ],
      "text/plain": [
       "    Title                               Distributor                    \n",
       "1   StarWars:EpisodeVII-TheForceAwakens WaltDisneyStudiosMotionPictures\n",
       "2   Avengers:Endgame                    WaltDisneyStudiosMotionPictures\n",
       "3   JurassicWorld                       UniversalPictures              \n",
       "⋮   ⋮                                   ⋮                              \n",
       "358 Ted2                                UniversalPictures              \n",
       "359 EatPrayLove                         SonyPicturesEntertainment(SPE) \n",
       "360 Zookeeper                           SonyPicturesEntertainment(SPE) \n",
       "    Release_Year World_Sales Genre                                   Runtime \n",
       "1   2015         2069521700  ['Action','Adventure','Sci-Fi']         2hr18min\n",
       "2   2019         2797501328  ['Action','Adventure','Drama','Sci-Fi'] 3hr1min \n",
       "3   2015         1670516444  ['Action','Adventure','Sci-Fi']         2hr4min \n",
       "⋮   ⋮            ⋮           ⋮                                       ⋮       \n",
       "358 2015         215863606   ['Comedy']                              1hr55min\n",
       "359 2010         204594016   ['Biography','Drama','Romance']         2hr13min\n",
       "360 2011         169852759   ['Comedy','Family','Fantasy','Romance'] 1hr42min\n",
       "    Action Adventure Sci-Fi Drama ⋯ Thriller War   Mystery Biography Horror\n",
       "1   TRUE   TRUE      TRUE   FALSE ⋯ FALSE    FALSE FALSE   FALSE     FALSE \n",
       "2   TRUE   TRUE      TRUE    TRUE ⋯ FALSE    FALSE FALSE   FALSE     FALSE \n",
       "3   TRUE   TRUE      TRUE   FALSE ⋯ FALSE    FALSE FALSE   FALSE     FALSE \n",
       "⋮   ⋮      ⋮         ⋮      ⋮     ⋱ ⋮        ⋮     ⋮       ⋮         ⋮     \n",
       "358 FALSE  FALSE     FALSE  FALSE ⋯ FALSE    FALSE FALSE   FALSE     FALSE \n",
       "359 FALSE  FALSE     FALSE   TRUE ⋯ FALSE    FALSE FALSE    TRUE     FALSE \n",
       "360 FALSE  FALSE     FALSE  FALSE ⋯ FALSE    FALSE FALSE   FALSE     FALSE \n",
       "    Sport Music History Western Documentary\n",
       "1   FALSE FALSE FALSE   FALSE   FALSE      \n",
       "2   FALSE FALSE FALSE   FALSE   FALSE      \n",
       "3   FALSE FALSE FALSE   FALSE   FALSE      \n",
       "⋮   ⋮     ⋮     ⋮       ⋮       ⋮          \n",
       "358 FALSE FALSE FALSE   FALSE   FALSE      \n",
       "359 FALSE FALSE FALSE   FALSE   FALSE      \n",
       "360 FALSE FALSE FALSE   FALSE   FALSE      "
      ]
     },
     "metadata": {},
     "output_type": "display_data"
    }
   ],
   "source": [
    "# creating columns for each genre\n",
    "movies_genres <- movies_2010\n",
    "for(i in genre_list)\n",
    "  { \n",
    "    movies_genres <- movies_genres %>%\n",
    "        mutate(!!i := str_detect(Genre, i))  \n",
    "}\n",
    "\n",
    "movies_genres"
   ]
  },
  {
   "cell_type": "code",
   "execution_count": 33,
   "metadata": {},
   "outputs": [
    {
     "name": "stderr",
     "output_type": "stream",
     "text": [
      "Warning message:\n",
      "“Expected 1 pieces. Additional pieces discarded in 352 rows [1, 2, 3, 4, 5, 6, 7, 8, 9, 10, 11, 12, 13, 14, 15, 16, 17, 18, 19, 20, ...].”\n"
     ]
    },
    {
     "data": {
      "text/html": [
       "<table>\n",
       "<caption>A data.frame: 360 × 6</caption>\n",
       "<thead>\n",
       "\t<tr><th scope=col>Title</th><th scope=col>Distributor</th><th scope=col>Release_Year</th><th scope=col>World_Sales</th><th scope=col>Genre</th><th scope=col>Duration</th></tr>\n",
       "\t<tr><th scope=col>&lt;chr&gt;</th><th scope=col>&lt;fct&gt;</th><th scope=col>&lt;dbl&gt;</th><th scope=col>&lt;dbl&gt;</th><th scope=col>&lt;chr&gt;</th><th scope=col>&lt;dbl&gt;</th></tr>\n",
       "</thead>\n",
       "<tbody>\n",
       "\t<tr><td>StarWars:EpisodeVII-TheForceAwakens</td><td>WaltDisneyStudiosMotionPictures</td><td>2015</td><td>2069521700</td><td>['Action','Adventure','Sci-Fi']        </td><td>138</td></tr>\n",
       "\t<tr><td>Avengers:Endgame                   </td><td>WaltDisneyStudiosMotionPictures</td><td>2019</td><td>2797501328</td><td>['Action','Adventure','Drama','Sci-Fi']</td><td>181</td></tr>\n",
       "\t<tr><td>JurassicWorld                      </td><td>UniversalPictures              </td><td>2015</td><td>1670516444</td><td>['Action','Adventure','Sci-Fi']        </td><td>124</td></tr>\n",
       "\t<tr><td>⋮</td><td>⋮</td><td>⋮</td><td>⋮</td><td>⋮</td><td>⋮</td></tr>\n",
       "\t<tr><td>Ted2       </td><td>UniversalPictures             </td><td>2015</td><td>215863606</td><td>['Comedy']                             </td><td>115</td></tr>\n",
       "\t<tr><td>EatPrayLove</td><td>SonyPicturesEntertainment(SPE)</td><td>2010</td><td>204594016</td><td>['Biography','Drama','Romance']        </td><td>133</td></tr>\n",
       "\t<tr><td>Zookeeper  </td><td>SonyPicturesEntertainment(SPE)</td><td>2011</td><td>169852759</td><td>['Comedy','Family','Fantasy','Romance']</td><td>102</td></tr>\n",
       "</tbody>\n",
       "</table>\n"
      ],
      "text/latex": [
       "A data.frame: 360 × 6\n",
       "\\begin{tabular}{llllll}\n",
       " Title & Distributor & Release\\_Year & World\\_Sales & Genre & Duration\\\\\n",
       " <chr> & <fct> & <dbl> & <dbl> & <chr> & <dbl>\\\\\n",
       "\\hline\n",
       "\t StarWars:EpisodeVII-TheForceAwakens & WaltDisneyStudiosMotionPictures & 2015 & 2069521700 & {[}'Action','Adventure','Sci-Fi'{]}         & 138\\\\\n",
       "\t Avengers:Endgame                    & WaltDisneyStudiosMotionPictures & 2019 & 2797501328 & {[}'Action','Adventure','Drama','Sci-Fi'{]} & 181\\\\\n",
       "\t JurassicWorld                       & UniversalPictures               & 2015 & 1670516444 & {[}'Action','Adventure','Sci-Fi'{]}         & 124\\\\\n",
       "\t ⋮ & ⋮ & ⋮ & ⋮ & ⋮ & ⋮\\\\\n",
       "\t Ted2        & UniversalPictures              & 2015 & 215863606 & {[}'Comedy'{]}                              & 115\\\\\n",
       "\t EatPrayLove & SonyPicturesEntertainment(SPE) & 2010 & 204594016 & {[}'Biography','Drama','Romance'{]}         & 133\\\\\n",
       "\t Zookeeper   & SonyPicturesEntertainment(SPE) & 2011 & 169852759 & {[}'Comedy','Family','Fantasy','Romance'{]} & 102\\\\\n",
       "\\end{tabular}\n"
      ],
      "text/markdown": [
       "\n",
       "A data.frame: 360 × 6\n",
       "\n",
       "| Title &lt;chr&gt; | Distributor &lt;fct&gt; | Release_Year &lt;dbl&gt; | World_Sales &lt;dbl&gt; | Genre &lt;chr&gt; | Duration &lt;dbl&gt; |\n",
       "|---|---|---|---|---|---|\n",
       "| StarWars:EpisodeVII-TheForceAwakens | WaltDisneyStudiosMotionPictures | 2015 | 2069521700 | ['Action','Adventure','Sci-Fi']         | 138 |\n",
       "| Avengers:Endgame                    | WaltDisneyStudiosMotionPictures | 2019 | 2797501328 | ['Action','Adventure','Drama','Sci-Fi'] | 181 |\n",
       "| JurassicWorld                       | UniversalPictures               | 2015 | 1670516444 | ['Action','Adventure','Sci-Fi']         | 124 |\n",
       "| ⋮ | ⋮ | ⋮ | ⋮ | ⋮ | ⋮ |\n",
       "| Ted2        | UniversalPictures              | 2015 | 215863606 | ['Comedy']                              | 115 |\n",
       "| EatPrayLove | SonyPicturesEntertainment(SPE) | 2010 | 204594016 | ['Biography','Drama','Romance']         | 133 |\n",
       "| Zookeeper   | SonyPicturesEntertainment(SPE) | 2011 | 169852759 | ['Comedy','Family','Fantasy','Romance'] | 102 |\n",
       "\n"
      ],
      "text/plain": [
       "    Title                               Distributor                    \n",
       "1   StarWars:EpisodeVII-TheForceAwakens WaltDisneyStudiosMotionPictures\n",
       "2   Avengers:Endgame                    WaltDisneyStudiosMotionPictures\n",
       "3   JurassicWorld                       UniversalPictures              \n",
       "⋮   ⋮                                   ⋮                              \n",
       "358 Ted2                                UniversalPictures              \n",
       "359 EatPrayLove                         SonyPicturesEntertainment(SPE) \n",
       "360 Zookeeper                           SonyPicturesEntertainment(SPE) \n",
       "    Release_Year World_Sales Genre                                   Duration\n",
       "1   2015         2069521700  ['Action','Adventure','Sci-Fi']         138     \n",
       "2   2019         2797501328  ['Action','Adventure','Drama','Sci-Fi'] 181     \n",
       "3   2015         1670516444  ['Action','Adventure','Sci-Fi']         124     \n",
       "⋮   ⋮            ⋮           ⋮                                       ⋮       \n",
       "358 2015         215863606   ['Comedy']                              115     \n",
       "359 2010         204594016   ['Biography','Drama','Romance']         133     \n",
       "360 2011         169852759   ['Comedy','Family','Fantasy','Romance'] 102     "
      ]
     },
     "metadata": {},
     "output_type": "display_data"
    }
   ],
   "source": [
    "# tidying Runtime column\n",
    "movies_2010_separate_runtime <- separate(movies_2010,\n",
    "                                            col = Runtime,\n",
    "                                            into = c(\"Runtime_hr\", \"Runtime_min\"),\n",
    "                                            sep = \"hr\"\n",
    "                                         )\n",
    "# remove min from Runtime_min\n",
    "movies_2010_separate_minute <- separate(movies_2010_separate_runtime,\n",
    "                                        col = Runtime_min,\n",
    "                                        into = c(\"Runtime_min\"),\n",
    "                                        sep = \"min\"\n",
    "                                       )\n",
    "\n",
    "# change hr and time into duration (minutes)\n",
    "numeric_duration <- movies_2010_separate_minute %>%\n",
    "                    select(Runtime_hr, Runtime_min) %>%\n",
    "                    as.data.frame() %>%\n",
    "                    mutate(Runtime_hr = as.numeric(Runtime_hr)) %>%\n",
    "                    mutate(Runtime_min = as.numeric(Runtime_min)) %>%\n",
    "                    mutate(Duration = Runtime_hr * 60 + Runtime_min) %>%\n",
    "                    select(Duration)\n",
    "\n",
    "# Merge Duration (runtime in minutes) with movies_2010\n",
    "movies_2010_tidy <- movies_2010 %>%\n",
    "                    select(-Runtime) %>%\n",
    "                    cbind(numeric_duration) %>%                                 # bind the new column into the df\n",
    "                    mutate(Release_Year = as.numeric(Release_Year)) %>%         # change data type\n",
    "                    mutate(World_Sales = as.numeric(World_Sales)) %>%           # change data type\n",
    "                    mutate(Distributor = as.factor(Distributor)) \n",
    "\n",
    "movies_2010_tidy\n",
    "\n"
   ]
  },
  {
   "cell_type": "code",
   "execution_count": 15,
   "metadata": {},
   "outputs": [],
   "source": [
    "# split data into training and testing set\n",
    "set.seed(20)\n",
    "movies_split <- initial_split(movies_2010_tidy, prop = 0.75, strata = World_Sales)\n",
    "movies_train <- training(movies_split)\n",
    "movies_test <- training(movies_split)"
   ]
  },
  {
   "cell_type": "code",
   "execution_count": 16,
   "metadata": {},
   "outputs": [
    {
     "name": "stderr",
     "output_type": "stream",
     "text": [
      "`summarise()` ungrouping output (override with `.groups` argument)\n",
      "\n"
     ]
    },
    {
     "data": {
      "text/html": [
       "<table>\n",
       "<caption>A tibble: 19 × 3</caption>\n",
       "<thead>\n",
       "\t<tr><th scope=col>Distributor</th><th scope=col>count</th><th scope=col>percentage</th></tr>\n",
       "\t<tr><th scope=col>&lt;fct&gt;</th><th scope=col>&lt;int&gt;</th><th scope=col>&lt;dbl&gt;</th></tr>\n",
       "</thead>\n",
       "<tbody>\n",
       "\t<tr><td>WarnerBros.        </td><td>52</td><td>19.11765</td></tr>\n",
       "\t<tr><td>UniversalPictures  </td><td>45</td><td>16.54412</td></tr>\n",
       "\t<tr><td>TwentiethCenturyFox</td><td>42</td><td>15.44118</td></tr>\n",
       "\t<tr><td>⋮</td><td>⋮</td><td>⋮</td></tr>\n",
       "\t<tr><td>RoadsideAttractions   </td><td>1</td><td>0.3676471</td></tr>\n",
       "\t<tr><td>SummitEntertainment   </td><td>1</td><td>0.3676471</td></tr>\n",
       "\t<tr><td>UnitedArtistsReleasing</td><td>1</td><td>0.3676471</td></tr>\n",
       "</tbody>\n",
       "</table>\n"
      ],
      "text/latex": [
       "A tibble: 19 × 3\n",
       "\\begin{tabular}{lll}\n",
       " Distributor & count & percentage\\\\\n",
       " <fct> & <int> & <dbl>\\\\\n",
       "\\hline\n",
       "\t WarnerBros.         & 52 & 19.11765\\\\\n",
       "\t UniversalPictures   & 45 & 16.54412\\\\\n",
       "\t TwentiethCenturyFox & 42 & 15.44118\\\\\n",
       "\t ⋮ & ⋮ & ⋮\\\\\n",
       "\t RoadsideAttractions    & 1 & 0.3676471\\\\\n",
       "\t SummitEntertainment    & 1 & 0.3676471\\\\\n",
       "\t UnitedArtistsReleasing & 1 & 0.3676471\\\\\n",
       "\\end{tabular}\n"
      ],
      "text/markdown": [
       "\n",
       "A tibble: 19 × 3\n",
       "\n",
       "| Distributor &lt;fct&gt; | count &lt;int&gt; | percentage &lt;dbl&gt; |\n",
       "|---|---|---|\n",
       "| WarnerBros.         | 52 | 19.11765 |\n",
       "| UniversalPictures   | 45 | 16.54412 |\n",
       "| TwentiethCenturyFox | 42 | 15.44118 |\n",
       "| ⋮ | ⋮ | ⋮ |\n",
       "| RoadsideAttractions    | 1 | 0.3676471 |\n",
       "| SummitEntertainment    | 1 | 0.3676471 |\n",
       "| UnitedArtistsReleasing | 1 | 0.3676471 |\n",
       "\n"
      ],
      "text/plain": [
       "   Distributor            count percentage\n",
       "1  WarnerBros.            52    19.11765  \n",
       "2  UniversalPictures      45    16.54412  \n",
       "3  TwentiethCenturyFox    42    15.44118  \n",
       "⋮  ⋮                      ⋮     ⋮         \n",
       "17 RoadsideAttractions    1     0.3676471 \n",
       "18 SummitEntertainment    1     0.3676471 \n",
       "19 UnitedArtistsReleasing 1     0.3676471 "
      ]
     },
     "metadata": {},
     "output_type": "display_data"
    }
   ],
   "source": [
    "# exploratory data analysis on training data\n",
    "\n",
    "# distributors within the top grossing movies released since 2010\n",
    "num_obs <- nrow(movies_train) \n",
    "\n",
    "movies_train %>%\n",
    "    group_by(Distributor) %>%\n",
    "    summarize(count = n(), percentage = n() / num_obs * 100) %>%\n",
    "    arrange(desc(percentage))                                         # arrange by % of distributors\n"
   ]
  },
  {
   "cell_type": "markdown",
   "metadata": {},
   "source": [
    "<h2> Methods </h2>"
   ]
  },
  {
   "cell_type": "markdown",
   "metadata": {},
   "source": [
    "add method"
   ]
  },
  {
   "cell_type": "markdown",
   "metadata": {},
   "source": [
    "<h2> Expected Outcomes and Significance </h2>"
   ]
  },
  {
   "cell_type": "markdown",
   "metadata": {},
   "source": [
    "outcome"
   ]
  },
  {
   "cell_type": "code",
   "execution_count": 75,
   "metadata": {},
   "outputs": [
    {
     "data": {
      "text/html": [
       "'asdscatads'"
      ],
      "text/latex": [
       "'asdscatads'"
      ],
      "text/markdown": [
       "'asdscatads'"
      ],
      "text/plain": [
       "[1] \"asdscatads\"\n",
       "attr(,\"options\")\n",
       "attr(,\"options\")$case_insensitive\n",
       "[1] \"cat\"\n",
       "\n",
       "attr(,\"options\")$comments\n",
       "[1] FALSE\n",
       "\n",
       "attr(,\"options\")$dotall\n",
       "[1] FALSE\n",
       "\n",
       "attr(,\"options\")$multiline\n",
       "[1] FALSE\n",
       "\n",
       "attr(,\"class\")\n",
       "[1] \"regex\"     \"pattern\"   \"character\""
      ]
     },
     "metadata": {},
     "output_type": "display_data"
    }
   ],
   "source": []
  },
  {
   "cell_type": "code",
   "execution_count": null,
   "metadata": {},
   "outputs": [],
   "source": []
  }
 ],
 "metadata": {
  "kernelspec": {
   "display_name": "R",
   "language": "R",
   "name": "ir"
  },
  "language_info": {
   "codemirror_mode": "r",
   "file_extension": ".r",
   "mimetype": "text/x-r-source",
   "name": "R",
   "pygments_lexer": "r",
   "version": "4.0.0"
  }
 },
 "nbformat": 4,
 "nbformat_minor": 4
}
