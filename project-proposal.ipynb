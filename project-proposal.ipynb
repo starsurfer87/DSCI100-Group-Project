{
 "cells": [
  {
   "cell_type": "markdown",
   "metadata": {},
   "source": [
    "# Project Proposal"
   ]
  },
  {
   "cell_type": "code",
   "execution_count": 5,
   "metadata": {},
   "outputs": [],
   "source": [
    "# set up\n",
    "library(tidyverse)\n",
    "library(repr)\n",
    "library(tidymodels)\n",
    "options(repr.matrix.max.rows = 6)"
   ]
  },
  {
   "cell_type": "code",
   "execution_count": 6,
   "metadata": {},
   "outputs": [
    {
     "name": "stderr",
     "output_type": "stream",
     "text": [
      "Warning message:\n",
      "“Missing column names filled in: 'X1' [1]”\n",
      "Parsed with column specification:\n",
      "cols(\n",
      "  X1 = \u001b[32mcol_double()\u001b[39m,\n",
      "  Title = \u001b[31mcol_character()\u001b[39m,\n",
      "  `Movie Info` = \u001b[31mcol_character()\u001b[39m,\n",
      "  Distributor = \u001b[31mcol_character()\u001b[39m,\n",
      "  `Release Date` = \u001b[31mcol_character()\u001b[39m,\n",
      "  `Domestic Sales (in $)` = \u001b[32mcol_double()\u001b[39m,\n",
      "  `International Sales (in $)` = \u001b[32mcol_double()\u001b[39m,\n",
      "  `World Sales (in $)` = \u001b[32mcol_double()\u001b[39m,\n",
      "  Genre = \u001b[31mcol_character()\u001b[39m,\n",
      "  `Movie Runtime` = \u001b[31mcol_character()\u001b[39m,\n",
      "  License = \u001b[31mcol_character()\u001b[39m\n",
      ")\n",
      "\n"
     ]
    },
    {
     "data": {
      "text/html": [
       "<table>\n",
       "<caption>A spec_tbl_df: 918 × 11</caption>\n",
       "<thead>\n",
       "\t<tr><th scope=col>X1</th><th scope=col>Title</th><th scope=col>Movie Info</th><th scope=col>Distributor</th><th scope=col>Release Date</th><th scope=col>Domestic Sales (in $)</th><th scope=col>International Sales (in $)</th><th scope=col>World Sales (in $)</th><th scope=col>Genre</th><th scope=col>Movie Runtime</th><th scope=col>License</th></tr>\n",
       "\t<tr><th scope=col>&lt;dbl&gt;</th><th scope=col>&lt;chr&gt;</th><th scope=col>&lt;chr&gt;</th><th scope=col>&lt;chr&gt;</th><th scope=col>&lt;chr&gt;</th><th scope=col>&lt;dbl&gt;</th><th scope=col>&lt;dbl&gt;</th><th scope=col>&lt;dbl&gt;</th><th scope=col>&lt;chr&gt;</th><th scope=col>&lt;chr&gt;</th><th scope=col>&lt;chr&gt;</th></tr>\n",
       "</thead>\n",
       "<tbody>\n",
       "\t<tr><td>0</td><td>Star Wars: Episode VII - The Force Awakens (2015)</td><td>As a new threat to the galaxy rises, Rey, a desert scavenger, and Finn, an ex-stormtrooper, must join Han Solo and Chewbacca to search for the one hope of restoring peace.                                                  </td><td>Walt Disney Studios Motion Pictures</td><td>December 16, 2015</td><td>936662225</td><td>1132859475</td><td>2069521700</td><td>['Action', 'Adventure', 'Sci-Fi']           </td><td>2 hr 18 min</td><td>PG-13</td></tr>\n",
       "\t<tr><td>1</td><td>Avengers: Endgame (2019)                         </td><td>After the devastating events of Avengers: Infinity War, the universe is in ruins. With the help of remaining allies, the Avengers assemble once more in order to reverse Thanos' actions and restore balance to the universe.</td><td>Walt Disney Studios Motion Pictures</td><td>April 24, 2019   </td><td>858373000</td><td>1939128328</td><td>2797501328</td><td>['Action', 'Adventure', 'Drama', 'Sci-Fi']  </td><td>3 hr 1 min </td><td>PG-13</td></tr>\n",
       "\t<tr><td>2</td><td>Avatar (2009)                                    </td><td>A paraplegic Marine dispatched to the moon Pandora on a unique mission becomes torn between following his orders and protecting the world he feels is his home.                                                              </td><td>Twentieth Century Fox              </td><td>December 16, 2009</td><td>760507625</td><td>2086738578</td><td>2847246203</td><td>['Action', 'Adventure', 'Fantasy', 'Sci-Fi']</td><td>2 hr 42 min</td><td>PG-13</td></tr>\n",
       "\t<tr><td>⋮</td><td>⋮</td><td>⋮</td><td>⋮</td><td>⋮</td><td>⋮</td><td>⋮</td><td>⋮</td><td>⋮</td><td>⋮</td><td>⋮</td></tr>\n",
       "\t<tr><td>915</td><td>Eat Pray Love (2010)              </td><td>A married woman realizes how unhappy her marriage really is, and that her life needs to go in a different direction. After a painful divorce, she takes off on a round-the-world journey to \"find herself\".</td><td>Sony Pictures Entertainment (SPE)</td><td>August 13, 2010 </td><td>80574010</td><td>124020006</td><td>204594016</td><td>['Biography', 'Drama', 'Romance']         </td><td>2 hr 13 min</td><td>PG-13</td></tr>\n",
       "\t<tr><td>916</td><td>The Texas Chainsaw Massacre (2003)</td><td>After picking up a traumatized young hitchhiker, five friends find themselves stalked and hunted by a deformed chainsaw-wielding loon and his family of equally psychopathic killers.                      </td><td>New Line Cinema                  </td><td>October 17, 2003</td><td>80571655</td><td> 26792250</td><td>107363905</td><td>['Crime', 'Horror']                       </td><td>1 hr 38 min</td><td>R    </td></tr>\n",
       "\t<tr><td>917</td><td>Zookeeper (2011)                  </td><td>A group of zoo animals decide to break their code of silence in order to help their lovable zookeeper find love, without opting to leave his current job for something more illustrious.                   </td><td>Sony Pictures Entertainment (SPE)</td><td>July 6, 2011    </td><td>80360843</td><td> 89491916</td><td>169852759</td><td>['Comedy', 'Family', 'Fantasy', 'Romance']</td><td>1 hr 42 min</td><td>PG   </td></tr>\n",
       "</tbody>\n",
       "</table>\n"
      ],
      "text/latex": [
       "A spec\\_tbl\\_df: 918 × 11\n",
       "\\begin{tabular}{lllllllllll}\n",
       " X1 & Title & Movie Info & Distributor & Release Date & Domestic Sales (in \\$) & International Sales (in \\$) & World Sales (in \\$) & Genre & Movie Runtime & License\\\\\n",
       " <dbl> & <chr> & <chr> & <chr> & <chr> & <dbl> & <dbl> & <dbl> & <chr> & <chr> & <chr>\\\\\n",
       "\\hline\n",
       "\t 0 & Star Wars: Episode VII - The Force Awakens (2015) & As a new threat to the galaxy rises, Rey, a desert scavenger, and Finn, an ex-stormtrooper, must join Han Solo and Chewbacca to search for the one hope of restoring peace.                                                   & Walt Disney Studios Motion Pictures & December 16, 2015 & 936662225 & 1132859475 & 2069521700 & {[}'Action', 'Adventure', 'Sci-Fi'{]}            & 2 hr 18 min & PG-13\\\\\n",
       "\t 1 & Avengers: Endgame (2019)                          & After the devastating events of Avengers: Infinity War, the universe is in ruins. With the help of remaining allies, the Avengers assemble once more in order to reverse Thanos' actions and restore balance to the universe. & Walt Disney Studios Motion Pictures & April 24, 2019    & 858373000 & 1939128328 & 2797501328 & {[}'Action', 'Adventure', 'Drama', 'Sci-Fi'{]}   & 3 hr 1 min  & PG-13\\\\\n",
       "\t 2 & Avatar (2009)                                     & A paraplegic Marine dispatched to the moon Pandora on a unique mission becomes torn between following his orders and protecting the world he feels is his home.                                                               & Twentieth Century Fox               & December 16, 2009 & 760507625 & 2086738578 & 2847246203 & {[}'Action', 'Adventure', 'Fantasy', 'Sci-Fi'{]} & 2 hr 42 min & PG-13\\\\\n",
       "\t ⋮ & ⋮ & ⋮ & ⋮ & ⋮ & ⋮ & ⋮ & ⋮ & ⋮ & ⋮ & ⋮\\\\\n",
       "\t 915 & Eat Pray Love (2010)               & A married woman realizes how unhappy her marriage really is, and that her life needs to go in a different direction. After a painful divorce, she takes off on a round-the-world journey to \"find herself\". & Sony Pictures Entertainment (SPE) & August 13, 2010  & 80574010 & 124020006 & 204594016 & {[}'Biography', 'Drama', 'Romance'{]}          & 2 hr 13 min & PG-13\\\\\n",
       "\t 916 & The Texas Chainsaw Massacre (2003) & After picking up a traumatized young hitchhiker, five friends find themselves stalked and hunted by a deformed chainsaw-wielding loon and his family of equally psychopathic killers.                       & New Line Cinema                   & October 17, 2003 & 80571655 &  26792250 & 107363905 & {[}'Crime', 'Horror'{]}                        & 1 hr 38 min & R    \\\\\n",
       "\t 917 & Zookeeper (2011)                   & A group of zoo animals decide to break their code of silence in order to help their lovable zookeeper find love, without opting to leave his current job for something more illustrious.                    & Sony Pictures Entertainment (SPE) & July 6, 2011     & 80360843 &  89491916 & 169852759 & {[}'Comedy', 'Family', 'Fantasy', 'Romance'{]} & 1 hr 42 min & PG   \\\\\n",
       "\\end{tabular}\n"
      ],
      "text/markdown": [
       "\n",
       "A spec_tbl_df: 918 × 11\n",
       "\n",
       "| X1 &lt;dbl&gt; | Title &lt;chr&gt; | Movie Info &lt;chr&gt; | Distributor &lt;chr&gt; | Release Date &lt;chr&gt; | Domestic Sales (in $) &lt;dbl&gt; | International Sales (in $) &lt;dbl&gt; | World Sales (in $) &lt;dbl&gt; | Genre &lt;chr&gt; | Movie Runtime &lt;chr&gt; | License &lt;chr&gt; |\n",
       "|---|---|---|---|---|---|---|---|---|---|---|\n",
       "| 0 | Star Wars: Episode VII - The Force Awakens (2015) | As a new threat to the galaxy rises, Rey, a desert scavenger, and Finn, an ex-stormtrooper, must join Han Solo and Chewbacca to search for the one hope of restoring peace.                                                   | Walt Disney Studios Motion Pictures | December 16, 2015 | 936662225 | 1132859475 | 2069521700 | ['Action', 'Adventure', 'Sci-Fi']            | 2 hr 18 min | PG-13 |\n",
       "| 1 | Avengers: Endgame (2019)                          | After the devastating events of Avengers: Infinity War, the universe is in ruins. With the help of remaining allies, the Avengers assemble once more in order to reverse Thanos' actions and restore balance to the universe. | Walt Disney Studios Motion Pictures | April 24, 2019    | 858373000 | 1939128328 | 2797501328 | ['Action', 'Adventure', 'Drama', 'Sci-Fi']   | 3 hr 1 min  | PG-13 |\n",
       "| 2 | Avatar (2009)                                     | A paraplegic Marine dispatched to the moon Pandora on a unique mission becomes torn between following his orders and protecting the world he feels is his home.                                                               | Twentieth Century Fox               | December 16, 2009 | 760507625 | 2086738578 | 2847246203 | ['Action', 'Adventure', 'Fantasy', 'Sci-Fi'] | 2 hr 42 min | PG-13 |\n",
       "| ⋮ | ⋮ | ⋮ | ⋮ | ⋮ | ⋮ | ⋮ | ⋮ | ⋮ | ⋮ | ⋮ |\n",
       "| 915 | Eat Pray Love (2010)               | A married woman realizes how unhappy her marriage really is, and that her life needs to go in a different direction. After a painful divorce, she takes off on a round-the-world journey to \"find herself\". | Sony Pictures Entertainment (SPE) | August 13, 2010  | 80574010 | 124020006 | 204594016 | ['Biography', 'Drama', 'Romance']          | 2 hr 13 min | PG-13 |\n",
       "| 916 | The Texas Chainsaw Massacre (2003) | After picking up a traumatized young hitchhiker, five friends find themselves stalked and hunted by a deformed chainsaw-wielding loon and his family of equally psychopathic killers.                       | New Line Cinema                   | October 17, 2003 | 80571655 |  26792250 | 107363905 | ['Crime', 'Horror']                        | 1 hr 38 min | R     |\n",
       "| 917 | Zookeeper (2011)                   | A group of zoo animals decide to break their code of silence in order to help their lovable zookeeper find love, without opting to leave his current job for something more illustrious.                    | Sony Pictures Entertainment (SPE) | July 6, 2011     | 80360843 |  89491916 | 169852759 | ['Comedy', 'Family', 'Fantasy', 'Romance'] | 1 hr 42 min | PG    |\n",
       "\n"
      ],
      "text/plain": [
       "    X1  Title                                            \n",
       "1   0   Star Wars: Episode VII - The Force Awakens (2015)\n",
       "2   1   Avengers: Endgame (2019)                         \n",
       "3   2   Avatar (2009)                                    \n",
       "⋮   ⋮   ⋮                                                \n",
       "916 915 Eat Pray Love (2010)                             \n",
       "917 916 The Texas Chainsaw Massacre (2003)               \n",
       "918 917 Zookeeper (2011)                                 \n",
       "    Movie Info                                                                                                                                                                                                                   \n",
       "1   As a new threat to the galaxy rises, Rey, a desert scavenger, and Finn, an ex-stormtrooper, must join Han Solo and Chewbacca to search for the one hope of restoring peace.                                                  \n",
       "2   After the devastating events of Avengers: Infinity War, the universe is in ruins. With the help of remaining allies, the Avengers assemble once more in order to reverse Thanos' actions and restore balance to the universe.\n",
       "3   A paraplegic Marine dispatched to the moon Pandora on a unique mission becomes torn between following his orders and protecting the world he feels is his home.                                                              \n",
       "⋮   ⋮                                                                                                                                                                                                                            \n",
       "916 A married woman realizes how unhappy her marriage really is, and that her life needs to go in a different direction. After a painful divorce, she takes off on a round-the-world journey to \"find herself\".                  \n",
       "917 After picking up a traumatized young hitchhiker, five friends find themselves stalked and hunted by a deformed chainsaw-wielding loon and his family of equally psychopathic killers.                                        \n",
       "918 A group of zoo animals decide to break their code of silence in order to help their lovable zookeeper find love, without opting to leave his current job for something more illustrious.                                     \n",
       "    Distributor                         Release Date      Domestic Sales (in $)\n",
       "1   Walt Disney Studios Motion Pictures December 16, 2015 936662225            \n",
       "2   Walt Disney Studios Motion Pictures April 24, 2019    858373000            \n",
       "3   Twentieth Century Fox               December 16, 2009 760507625            \n",
       "⋮   ⋮                                   ⋮                 ⋮                    \n",
       "916 Sony Pictures Entertainment (SPE)   August 13, 2010   80574010             \n",
       "917 New Line Cinema                     October 17, 2003  80571655             \n",
       "918 Sony Pictures Entertainment (SPE)   July 6, 2011      80360843             \n",
       "    International Sales (in $) World Sales (in $)\n",
       "1   1132859475                 2069521700        \n",
       "2   1939128328                 2797501328        \n",
       "3   2086738578                 2847246203        \n",
       "⋮   ⋮                          ⋮                 \n",
       "916 124020006                  204594016         \n",
       "917  26792250                  107363905         \n",
       "918  89491916                  169852759         \n",
       "    Genre                                        Movie Runtime License\n",
       "1   ['Action', 'Adventure', 'Sci-Fi']            2 hr 18 min   PG-13  \n",
       "2   ['Action', 'Adventure', 'Drama', 'Sci-Fi']   3 hr 1 min    PG-13  \n",
       "3   ['Action', 'Adventure', 'Fantasy', 'Sci-Fi'] 2 hr 42 min   PG-13  \n",
       "⋮   ⋮                                            ⋮             ⋮      \n",
       "916 ['Biography', 'Drama', 'Romance']            2 hr 13 min   PG-13  \n",
       "917 ['Crime', 'Horror']                          1 hr 38 min   R      \n",
       "918 ['Comedy', 'Family', 'Fantasy', 'Romance']   1 hr 42 min   PG     "
      ]
     },
     "metadata": {},
     "output_type": "display_data"
    }
   ],
   "source": [
    "# reading in data\n",
    "movies_data <- read_csv(\"highest-holywood-grossing-movies.csv\")\n",
    "movies_data"
   ]
  },
  {
   "cell_type": "code",
   "execution_count": null,
   "metadata": {},
   "outputs": [],
   "source": []
  }
 ],
 "metadata": {
  "kernelspec": {
   "display_name": "R",
   "language": "R",
   "name": "ir"
  },
  "language_info": {
   "codemirror_mode": "r",
   "file_extension": ".r",
   "mimetype": "text/x-r-source",
   "name": "R",
   "pygments_lexer": "r",
   "version": "4.0.0"
  }
 },
 "nbformat": 4,
 "nbformat_minor": 4
}
